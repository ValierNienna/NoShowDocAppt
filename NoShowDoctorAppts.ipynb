{
 "cells": [
  {
   "cell_type": "markdown",
   "metadata": {},
   "source": [
    "\n",
    "\n",
    "# An Investigation into Factors Impacting Patient Appointment Absenteeism\n",
    "\n",
    "\n",
    "\n",
    "## Table of Contents\n",
    "<ul>\n",
    "<li><a href=\"#intro\">Introduction</a></li>\n",
    "<li><a href=\"#wrangling\">Data Wrangling</a></li>\n",
    "<li><a href=\"#eda\">Exploratory Data Analysis</a></li>\n",
    "<li><a href=\"#conclusions\">Conclusions</a></li>\n",
    "<li><a href=\"#limitations\">Limitations</a></li>\n",
    "</ul>"
   ]
  },
  {
   "cell_type": "markdown",
   "metadata": {},
   "source": [
    "<a id='intro'></a>\n",
    "## Introduction\n",
    "\n",
    "The dataset selected for this project includes 110,527 patient records that pertain to 62,299 unique patients.  The data was collected in Brazil during a 6 months time period that began in November 2015.  The population of patients includes all age groups and the male and female genders.  This investigation will attempt to answer the question of what factors most predict patient absenteeism.  The variables that will be analyzed are as follows:\n",
    "\n",
    "<blockquote>\n",
    "<ul>\n",
    "<li>Does patient absenteeism fluctuate by day of week?</li>\n",
    "<li>Do pre-appointment text messages lower patient absenteeism?</li>\n",
    "<li>Is patient age impactful?</li>\n",
    "</ul>\n",
    "</blockquote>"
   ]
  },
  {
   "cell_type": "code",
   "execution_count": 1,
   "metadata": {},
   "outputs": [],
   "source": [
    "# Import libraries\n",
    "import pandas as pd\n",
    "import numpy as np\n",
    "import matplotlib.pyplot as plt"
   ]
  },
  {
   "cell_type": "markdown",
   "metadata": {},
   "source": [
    "<a id='wrangling'></a>\n",
    "## Data Wrangling\n",
    "\n",
    "### General Properties"
   ]
  },
  {
   "cell_type": "code",
   "execution_count": 2,
   "metadata": {
    "scrolled": true
   },
   "outputs": [
    {
     "data": {
      "text/html": [
       "<div>\n",
       "<style scoped>\n",
       "    .dataframe tbody tr th:only-of-type {\n",
       "        vertical-align: middle;\n",
       "    }\n",
       "\n",
       "    .dataframe tbody tr th {\n",
       "        vertical-align: top;\n",
       "    }\n",
       "\n",
       "    .dataframe thead th {\n",
       "        text-align: right;\n",
       "    }\n",
       "</style>\n",
       "<table border=\"1\" class=\"dataframe\">\n",
       "  <thead>\n",
       "    <tr style=\"text-align: right;\">\n",
       "      <th></th>\n",
       "      <th>PatientId</th>\n",
       "      <th>AppointmentID</th>\n",
       "      <th>Gender</th>\n",
       "      <th>ScheduledDay</th>\n",
       "      <th>AppointmentDay</th>\n",
       "      <th>Age</th>\n",
       "      <th>Neighbourhood</th>\n",
       "      <th>Scholarship</th>\n",
       "      <th>Hipertension</th>\n",
       "      <th>Diabetes</th>\n",
       "      <th>Alcoholism</th>\n",
       "      <th>Handcap</th>\n",
       "      <th>SMS_received</th>\n",
       "      <th>No-show</th>\n",
       "    </tr>\n",
       "  </thead>\n",
       "  <tbody>\n",
       "    <tr>\n",
       "      <td>0</td>\n",
       "      <td>2.987250e+13</td>\n",
       "      <td>5642903</td>\n",
       "      <td>F</td>\n",
       "      <td>2016-04-29T18:38:08Z</td>\n",
       "      <td>2016-04-29T00:00:00Z</td>\n",
       "      <td>62</td>\n",
       "      <td>JARDIM DA PENHA</td>\n",
       "      <td>0</td>\n",
       "      <td>1</td>\n",
       "      <td>0</td>\n",
       "      <td>0</td>\n",
       "      <td>0</td>\n",
       "      <td>0</td>\n",
       "      <td>No</td>\n",
       "    </tr>\n",
       "    <tr>\n",
       "      <td>1</td>\n",
       "      <td>5.589978e+14</td>\n",
       "      <td>5642503</td>\n",
       "      <td>M</td>\n",
       "      <td>2016-04-29T16:08:27Z</td>\n",
       "      <td>2016-04-29T00:00:00Z</td>\n",
       "      <td>56</td>\n",
       "      <td>JARDIM DA PENHA</td>\n",
       "      <td>0</td>\n",
       "      <td>0</td>\n",
       "      <td>0</td>\n",
       "      <td>0</td>\n",
       "      <td>0</td>\n",
       "      <td>0</td>\n",
       "      <td>No</td>\n",
       "    </tr>\n",
       "    <tr>\n",
       "      <td>2</td>\n",
       "      <td>4.262962e+12</td>\n",
       "      <td>5642549</td>\n",
       "      <td>F</td>\n",
       "      <td>2016-04-29T16:19:04Z</td>\n",
       "      <td>2016-04-29T00:00:00Z</td>\n",
       "      <td>62</td>\n",
       "      <td>MATA DA PRAIA</td>\n",
       "      <td>0</td>\n",
       "      <td>0</td>\n",
       "      <td>0</td>\n",
       "      <td>0</td>\n",
       "      <td>0</td>\n",
       "      <td>0</td>\n",
       "      <td>No</td>\n",
       "    </tr>\n",
       "    <tr>\n",
       "      <td>3</td>\n",
       "      <td>8.679512e+11</td>\n",
       "      <td>5642828</td>\n",
       "      <td>F</td>\n",
       "      <td>2016-04-29T17:29:31Z</td>\n",
       "      <td>2016-04-29T00:00:00Z</td>\n",
       "      <td>8</td>\n",
       "      <td>PONTAL DE CAMBURI</td>\n",
       "      <td>0</td>\n",
       "      <td>0</td>\n",
       "      <td>0</td>\n",
       "      <td>0</td>\n",
       "      <td>0</td>\n",
       "      <td>0</td>\n",
       "      <td>No</td>\n",
       "    </tr>\n",
       "    <tr>\n",
       "      <td>4</td>\n",
       "      <td>8.841186e+12</td>\n",
       "      <td>5642494</td>\n",
       "      <td>F</td>\n",
       "      <td>2016-04-29T16:07:23Z</td>\n",
       "      <td>2016-04-29T00:00:00Z</td>\n",
       "      <td>56</td>\n",
       "      <td>JARDIM DA PENHA</td>\n",
       "      <td>0</td>\n",
       "      <td>1</td>\n",
       "      <td>1</td>\n",
       "      <td>0</td>\n",
       "      <td>0</td>\n",
       "      <td>0</td>\n",
       "      <td>No</td>\n",
       "    </tr>\n",
       "  </tbody>\n",
       "</table>\n",
       "</div>"
      ],
      "text/plain": [
       "      PatientId  AppointmentID Gender          ScheduledDay  \\\n",
       "0  2.987250e+13        5642903      F  2016-04-29T18:38:08Z   \n",
       "1  5.589978e+14        5642503      M  2016-04-29T16:08:27Z   \n",
       "2  4.262962e+12        5642549      F  2016-04-29T16:19:04Z   \n",
       "3  8.679512e+11        5642828      F  2016-04-29T17:29:31Z   \n",
       "4  8.841186e+12        5642494      F  2016-04-29T16:07:23Z   \n",
       "\n",
       "         AppointmentDay  Age      Neighbourhood  Scholarship  Hipertension  \\\n",
       "0  2016-04-29T00:00:00Z   62    JARDIM DA PENHA            0             1   \n",
       "1  2016-04-29T00:00:00Z   56    JARDIM DA PENHA            0             0   \n",
       "2  2016-04-29T00:00:00Z   62      MATA DA PRAIA            0             0   \n",
       "3  2016-04-29T00:00:00Z    8  PONTAL DE CAMBURI            0             0   \n",
       "4  2016-04-29T00:00:00Z   56    JARDIM DA PENHA            0             1   \n",
       "\n",
       "   Diabetes  Alcoholism  Handcap  SMS_received No-show  \n",
       "0         0           0        0             0      No  \n",
       "1         0           0        0             0      No  \n",
       "2         0           0        0             0      No  \n",
       "3         0           0        0             0      No  \n",
       "4         1           0        0             0      No  "
      ]
     },
     "execution_count": 2,
     "metadata": {},
     "output_type": "execute_result"
    }
   ],
   "source": [
    "# Open dataset and examine the first 5 records\n",
    "df = pd.read_csv('RawData.csv')\n",
    "df.head()"
   ]
  },
  {
   "cell_type": "code",
   "execution_count": 3,
   "metadata": {
    "scrolled": true
   },
   "outputs": [
    {
     "name": "stdout",
     "output_type": "stream",
     "text": [
      "<class 'pandas.core.frame.DataFrame'>\n",
      "RangeIndex: 110527 entries, 0 to 110526\n",
      "Data columns (total 14 columns):\n",
      "PatientId         110527 non-null float64\n",
      "AppointmentID     110527 non-null int64\n",
      "Gender            110527 non-null object\n",
      "ScheduledDay      110527 non-null object\n",
      "AppointmentDay    110527 non-null object\n",
      "Age               110527 non-null int64\n",
      "Neighbourhood     110527 non-null object\n",
      "Scholarship       110527 non-null int64\n",
      "Hipertension      110527 non-null int64\n",
      "Diabetes          110527 non-null int64\n",
      "Alcoholism        110527 non-null int64\n",
      "Handcap           110527 non-null int64\n",
      "SMS_received      110527 non-null int64\n",
      "No-show           110527 non-null object\n",
      "dtypes: float64(1), int64(8), object(5)\n",
      "memory usage: 11.8+ MB\n",
      "-------------\n",
      "Dataframe contains 110527 rows and 14 columns\n"
     ]
    }
   ],
   "source": [
    "#Print basic info about the file\n",
    "df.info(),\n",
    "print('-------------')\n",
    "print('Dataframe contains {} rows and {} columns'.format(df.shape[0],df.shape[1]))"
   ]
  },
  {
   "cell_type": "code",
   "execution_count": 4,
   "metadata": {},
   "outputs": [
    {
     "data": {
      "text/html": [
       "<div>\n",
       "<style scoped>\n",
       "    .dataframe tbody tr th:only-of-type {\n",
       "        vertical-align: middle;\n",
       "    }\n",
       "\n",
       "    .dataframe tbody tr th {\n",
       "        vertical-align: top;\n",
       "    }\n",
       "\n",
       "    .dataframe thead th {\n",
       "        text-align: right;\n",
       "    }\n",
       "</style>\n",
       "<table border=\"1\" class=\"dataframe\">\n",
       "  <thead>\n",
       "    <tr style=\"text-align: right;\">\n",
       "      <th></th>\n",
       "      <th>PatientId</th>\n",
       "      <th>AppointmentID</th>\n",
       "      <th>Age</th>\n",
       "      <th>Scholarship</th>\n",
       "      <th>Hipertension</th>\n",
       "      <th>Diabetes</th>\n",
       "      <th>Alcoholism</th>\n",
       "      <th>Handcap</th>\n",
       "      <th>SMS_received</th>\n",
       "    </tr>\n",
       "  </thead>\n",
       "  <tbody>\n",
       "    <tr>\n",
       "      <td>count</td>\n",
       "      <td>1.105270e+05</td>\n",
       "      <td>1.105270e+05</td>\n",
       "      <td>110527.000000</td>\n",
       "      <td>110527.000000</td>\n",
       "      <td>110527.000000</td>\n",
       "      <td>110527.000000</td>\n",
       "      <td>110527.000000</td>\n",
       "      <td>110527.000000</td>\n",
       "      <td>110527.000000</td>\n",
       "    </tr>\n",
       "    <tr>\n",
       "      <td>mean</td>\n",
       "      <td>1.474963e+14</td>\n",
       "      <td>5.675305e+06</td>\n",
       "      <td>37.088874</td>\n",
       "      <td>0.098266</td>\n",
       "      <td>0.197246</td>\n",
       "      <td>0.071865</td>\n",
       "      <td>0.030400</td>\n",
       "      <td>0.022248</td>\n",
       "      <td>0.321026</td>\n",
       "    </tr>\n",
       "    <tr>\n",
       "      <td>std</td>\n",
       "      <td>2.560949e+14</td>\n",
       "      <td>7.129575e+04</td>\n",
       "      <td>23.110205</td>\n",
       "      <td>0.297675</td>\n",
       "      <td>0.397921</td>\n",
       "      <td>0.258265</td>\n",
       "      <td>0.171686</td>\n",
       "      <td>0.161543</td>\n",
       "      <td>0.466873</td>\n",
       "    </tr>\n",
       "    <tr>\n",
       "      <td>min</td>\n",
       "      <td>3.921784e+04</td>\n",
       "      <td>5.030230e+06</td>\n",
       "      <td>-1.000000</td>\n",
       "      <td>0.000000</td>\n",
       "      <td>0.000000</td>\n",
       "      <td>0.000000</td>\n",
       "      <td>0.000000</td>\n",
       "      <td>0.000000</td>\n",
       "      <td>0.000000</td>\n",
       "    </tr>\n",
       "    <tr>\n",
       "      <td>25%</td>\n",
       "      <td>4.172614e+12</td>\n",
       "      <td>5.640286e+06</td>\n",
       "      <td>18.000000</td>\n",
       "      <td>0.000000</td>\n",
       "      <td>0.000000</td>\n",
       "      <td>0.000000</td>\n",
       "      <td>0.000000</td>\n",
       "      <td>0.000000</td>\n",
       "      <td>0.000000</td>\n",
       "    </tr>\n",
       "    <tr>\n",
       "      <td>50%</td>\n",
       "      <td>3.173184e+13</td>\n",
       "      <td>5.680573e+06</td>\n",
       "      <td>37.000000</td>\n",
       "      <td>0.000000</td>\n",
       "      <td>0.000000</td>\n",
       "      <td>0.000000</td>\n",
       "      <td>0.000000</td>\n",
       "      <td>0.000000</td>\n",
       "      <td>0.000000</td>\n",
       "    </tr>\n",
       "    <tr>\n",
       "      <td>75%</td>\n",
       "      <td>9.439172e+13</td>\n",
       "      <td>5.725524e+06</td>\n",
       "      <td>55.000000</td>\n",
       "      <td>0.000000</td>\n",
       "      <td>0.000000</td>\n",
       "      <td>0.000000</td>\n",
       "      <td>0.000000</td>\n",
       "      <td>0.000000</td>\n",
       "      <td>1.000000</td>\n",
       "    </tr>\n",
       "    <tr>\n",
       "      <td>max</td>\n",
       "      <td>9.999816e+14</td>\n",
       "      <td>5.790484e+06</td>\n",
       "      <td>115.000000</td>\n",
       "      <td>1.000000</td>\n",
       "      <td>1.000000</td>\n",
       "      <td>1.000000</td>\n",
       "      <td>1.000000</td>\n",
       "      <td>4.000000</td>\n",
       "      <td>1.000000</td>\n",
       "    </tr>\n",
       "  </tbody>\n",
       "</table>\n",
       "</div>"
      ],
      "text/plain": [
       "          PatientId  AppointmentID            Age    Scholarship  \\\n",
       "count  1.105270e+05   1.105270e+05  110527.000000  110527.000000   \n",
       "mean   1.474963e+14   5.675305e+06      37.088874       0.098266   \n",
       "std    2.560949e+14   7.129575e+04      23.110205       0.297675   \n",
       "min    3.921784e+04   5.030230e+06      -1.000000       0.000000   \n",
       "25%    4.172614e+12   5.640286e+06      18.000000       0.000000   \n",
       "50%    3.173184e+13   5.680573e+06      37.000000       0.000000   \n",
       "75%    9.439172e+13   5.725524e+06      55.000000       0.000000   \n",
       "max    9.999816e+14   5.790484e+06     115.000000       1.000000   \n",
       "\n",
       "        Hipertension       Diabetes     Alcoholism        Handcap  \\\n",
       "count  110527.000000  110527.000000  110527.000000  110527.000000   \n",
       "mean        0.197246       0.071865       0.030400       0.022248   \n",
       "std         0.397921       0.258265       0.171686       0.161543   \n",
       "min         0.000000       0.000000       0.000000       0.000000   \n",
       "25%         0.000000       0.000000       0.000000       0.000000   \n",
       "50%         0.000000       0.000000       0.000000       0.000000   \n",
       "75%         0.000000       0.000000       0.000000       0.000000   \n",
       "max         1.000000       1.000000       1.000000       4.000000   \n",
       "\n",
       "        SMS_received  \n",
       "count  110527.000000  \n",
       "mean        0.321026  \n",
       "std         0.466873  \n",
       "min         0.000000  \n",
       "25%         0.000000  \n",
       "50%         0.000000  \n",
       "75%         1.000000  \n",
       "max         1.000000  "
      ]
     },
     "execution_count": 4,
     "metadata": {},
     "output_type": "execute_result"
    }
   ],
   "source": [
    "#Describe dataset\n",
    "df.describe()"
   ]
  },
  {
   "cell_type": "markdown",
   "metadata": {},
   "source": [
    "<a id='intro'></a>\n",
    "### Data Cleaning\n",
    "\n",
    "In this section, the following unnecessary columns are removed by the author.  These include:\n",
    "\n",
    "<ul>\n",
    "<li>PatientId</li>\n",
    "<li>Gender</li>\n",
    "<li>ScheduledDay</li>    \n",
    "<li>Neighbourhood</li>\n",
    "<li>Scholarship</li>\n",
    "<li>Hipertension</li>\n",
    "<li>Diabetes</li>\n",
    "<li>Alcoholism</li>\n",
    "<li>Handcap</li>\n",
    "</ul>\n",
    "\n",
    "Additionally, the ScheduledDay column is converted from an object to a date type.  Using the updated AppointmentDay column, a new calculated column is added to capture the weekday of the scheduled appointment date.  The SMS_received column is converted from binary to Yes/No.  An additional column is added to group ages into the following groups: Infant (0-1), Toddler (1-2), Child (3-12), Teenager (13-17), Adult (18-64), and Senior (65+).  Records with an age value of less then 0 and greater then 100 are removed.\n",
    "\n",
    "Finally, the records are queried for duplicates.  As the dataset does not contain any duplicates, no additional cleaning is required."
   ]
  },
  {
   "cell_type": "code",
   "execution_count": 5,
   "metadata": {
    "scrolled": true
   },
   "outputs": [
    {
     "name": "stdout",
     "output_type": "stream",
     "text": [
      "Number of Duplicate Records: 0\n"
     ]
    },
    {
     "data": {
      "text/html": [
       "<div>\n",
       "<style scoped>\n",
       "    .dataframe tbody tr th:only-of-type {\n",
       "        vertical-align: middle;\n",
       "    }\n",
       "\n",
       "    .dataframe tbody tr th {\n",
       "        vertical-align: top;\n",
       "    }\n",
       "\n",
       "    .dataframe thead th {\n",
       "        text-align: right;\n",
       "    }\n",
       "</style>\n",
       "<table border=\"1\" class=\"dataframe\">\n",
       "  <thead>\n",
       "    <tr style=\"text-align: right;\">\n",
       "      <th></th>\n",
       "      <th>AppointmentID</th>\n",
       "      <th>AppointmentDay</th>\n",
       "      <th>Age</th>\n",
       "      <th>SMS_received</th>\n",
       "      <th>No-show</th>\n",
       "      <th>AppointmentWeekday</th>\n",
       "      <th>AgeGroup</th>\n",
       "    </tr>\n",
       "  </thead>\n",
       "  <tbody>\n",
       "    <tr>\n",
       "      <td>0</td>\n",
       "      <td>5642903</td>\n",
       "      <td>2016-04-29</td>\n",
       "      <td>62</td>\n",
       "      <td>0</td>\n",
       "      <td>No</td>\n",
       "      <td>Friday</td>\n",
       "      <td>Adult</td>\n",
       "    </tr>\n",
       "    <tr>\n",
       "      <td>1</td>\n",
       "      <td>5642503</td>\n",
       "      <td>2016-04-29</td>\n",
       "      <td>56</td>\n",
       "      <td>0</td>\n",
       "      <td>No</td>\n",
       "      <td>Friday</td>\n",
       "      <td>Adult</td>\n",
       "    </tr>\n",
       "    <tr>\n",
       "      <td>2</td>\n",
       "      <td>5642549</td>\n",
       "      <td>2016-04-29</td>\n",
       "      <td>62</td>\n",
       "      <td>0</td>\n",
       "      <td>No</td>\n",
       "      <td>Friday</td>\n",
       "      <td>Adult</td>\n",
       "    </tr>\n",
       "    <tr>\n",
       "      <td>3</td>\n",
       "      <td>5642828</td>\n",
       "      <td>2016-04-29</td>\n",
       "      <td>8</td>\n",
       "      <td>0</td>\n",
       "      <td>No</td>\n",
       "      <td>Friday</td>\n",
       "      <td>Child</td>\n",
       "    </tr>\n",
       "    <tr>\n",
       "      <td>4</td>\n",
       "      <td>5642494</td>\n",
       "      <td>2016-04-29</td>\n",
       "      <td>56</td>\n",
       "      <td>0</td>\n",
       "      <td>No</td>\n",
       "      <td>Friday</td>\n",
       "      <td>Adult</td>\n",
       "    </tr>\n",
       "  </tbody>\n",
       "</table>\n",
       "</div>"
      ],
      "text/plain": [
       "   AppointmentID AppointmentDay  Age  SMS_received No-show AppointmentWeekday  \\\n",
       "0        5642903     2016-04-29   62             0      No             Friday   \n",
       "1        5642503     2016-04-29   56             0      No             Friday   \n",
       "2        5642549     2016-04-29   62             0      No             Friday   \n",
       "3        5642828     2016-04-29    8             0      No             Friday   \n",
       "4        5642494     2016-04-29   56             0      No             Friday   \n",
       "\n",
       "  AgeGroup  \n",
       "0    Adult  \n",
       "1    Adult  \n",
       "2    Adult  \n",
       "3    Child  \n",
       "4    Adult  "
      ]
     },
     "execution_count": 5,
     "metadata": {},
     "output_type": "execute_result"
    }
   ],
   "source": [
    "# Remove unnecessary columns\n",
    "df = df.drop(['PatientId', 'Gender', 'ScheduledDay', 'Neighbourhood'\n",
    "              , 'Scholarship', 'Hipertension', 'Diabetes', 'Alcoholism', 'Handcap'], axis=1)\n",
    "\n",
    "# Convert ScheduledDay column from object to date\n",
    "df['AppointmentDay'] = df['AppointmentDay'].astype('datetime64[ns]')\n",
    "\n",
    "# Convert SMS_received column from binary to Yes/No\n",
    "df.copy().SMS_received[df['SMS_received'] == 1] = 'Yes'\n",
    "df.copy().SMS_received[df['SMS_received'] == 0] = 'No'\n",
    "\n",
    "# Add an additional column to capture appointment weekday\n",
    "df['AppointmentWeekday'] = df['AppointmentDay'].dt.weekday_name\n",
    "\n",
    "# Add an age group column\n",
    "def calculate_age_range(age):\n",
    "    if age <= 1: return 'Infant'\n",
    "    elif 1 < age <= 2: return 'Toddler'\n",
    "    elif 2 < age <= 12: return 'Child'\n",
    "    elif 12 < age <= 17: return 'Teenager'\n",
    "    elif 17 < age <= 64: return 'Adult'   \n",
    "    elif age >= 65: return 'Senior'\n",
    "    else: return 'Unknown'\n",
    "\n",
    "df[\"AgeGroup\"] = df['Age'].map(calculate_age_range)\n",
    "\n",
    "# Remove age outliers\n",
    "df = df.drop(df[df.Age < 0].index)\n",
    "df = df.drop(df[df.Age > 100].index)\n",
    "\n",
    "# Check for duplicate records\n",
    "print('Number of Duplicate Records:', df.duplicated().sum())\n",
    "\n",
    "# Review changes\n",
    "df.head()"
   ]
  },
  {
   "cell_type": "markdown",
   "metadata": {},
   "source": [
    "<a id='eda'></a>\n",
    "## Exploratory Data Analysis\n",
    "\n",
    "\n",
    "\n",
    "### Distribution of Appointments by Day of Week"
   ]
  },
  {
   "cell_type": "code",
   "execution_count": 6,
   "metadata": {
    "scrolled": false
   },
   "outputs": [
    {
     "data": {
      "image/png": "[encoded data removed]",
      "text/plain": [
       "<Figure size 432x288 with 1 Axes>"
      ]
     },
     "metadata": {},
     "output_type": "display_data"
    }
   ],
   "source": [
    "# Aggregate data by appointment day of week\n",
    "app = df.groupby(['AppointmentWeekday']).size().reset_index(name='Count')\n",
    "app = app.sort_values('Count')\n",
    "\n",
    "# Set labels and sizes for pie chart\n",
    "labels = app['AppointmentWeekday']\n",
    "sizes = app['Count']\n",
    "\n",
    "# Visualize data with a pie chart\n",
    "plt.pie(sizes, labels=labels, startangle=90, shadow=True, explode=(0.1, 0.1, 0.1, 0.1, 0.1, 0.1), autopct='%1.1f%%')\n",
    "plt.axis('equal')\n",
    "plt.title('Percentage of Appointments by Day of Week', fontsize=16, y=1.07)\n",
    "plt.show()\n"
   ]
  },
  {
   "cell_type": "markdown",
   "metadata": {},
   "source": [
    "The overall distribution of appointments by day of week is fairly even Monday through Friday.  With Tuesday and Wednesday accounting for the highest percentage of appointments at 23.2% and 23.4%. "
   ]
  },
  {
   "cell_type": "markdown",
   "metadata": {},
   "source": [
    "### Does patient absenteeism fluctuate by day of week?"
   ]
  },
  {
   "cell_type": "code",
   "execution_count": 7,
   "metadata": {
    "scrolled": false
   },
   "outputs": [
    {
     "name": "stdout",
     "output_type": "stream",
     "text": [
      "No-show                No   Yes  Total  NoShowPercentage\n",
      "AppointmentWeekday                                      \n",
      "Thursday            13908  3336  17244          0.193459\n",
      "Wednesday           20774  5093  25867          0.196892\n",
      "Tuesday             20487  5152  25639          0.200944\n",
      "Monday              18023  4689  22712          0.206455\n",
      "Friday              14981  4037  19018          0.212273\n",
      "Saturday               30     9     39          0.230769\n"
     ]
    },
    {
     "data": {
      "text/plain": [
       "Text(0.5, 1.05, 'Percentage of No Shows by Day of Week')"
      ]
     },
     "execution_count": 7,
     "metadata": {},
     "output_type": "execute_result"
    },
    {
     "data": {
      "image/png": "[encoded data removed]",
      "text/plain": [
       "<Figure size 432x288 with 1 Axes>"
      ]
     },
     "metadata": {
      "needs_background": "light"
     },
     "output_type": "display_data"
    }
   ],
   "source": [
    "# Identify the number of appointments by day of week that were no shows\n",
    "dow = df.groupby(['AppointmentWeekday', 'No-show']).size().reset_index(name='Count')\n",
    "dow_pivot = pd.pivot_table(dow, index = 'AppointmentWeekday', columns = 'No-show', values = 'Count', aggfunc = 'sum').fillna(0)\n",
    "\n",
    "# Calculate the percentage of no shows \n",
    "dow_pivot['Total'] = (dow_pivot['No'] + dow_pivot['Yes'])\n",
    "dow_pivot['NoShowPercentage'] = (dow_pivot['Yes'] / dow_pivot['Total'])\n",
    "dow_pivot = dow_pivot.sort_values('NoShowPercentage')\n",
    "print(dow_pivot)\n",
    "\n",
    "# Sort data by No Show Percentage \n",
    "dow_chart = dow_pivot.groupby('AppointmentWeekday')['NoShowPercentage'].mean().sort_values().tail(15)\n",
    "\n",
    "# Format data as a bar chart\n",
    "dow_chart.plot(kind='barh')\n",
    "plt.xlabel(\"Absenteeism %\", fontsize=12)\n",
    "plt.ylabel(\"Day of Week\", fontsize=12)\n",
    "plt.title (\"Percentage of No Shows by Day of Week\", fontsize=16, y=1.05)"
   ]
  },
  {
   "cell_type": "markdown",
   "metadata": {},
   "source": [
    "Overall, Saturday had the highest percentage of patient absenteeism at 23%, however, this is a bit deceptive as there were only 30 appointments scheduled.  Excluding Saturday as an outlier, Friday and Monday had the highest percentage of no shows at 21% and 20% respectively.  Therefore it can be concluded that weekdays adjacent to the weekend have a slightly higher percentage of patient absenteeism."
   ]
  },
  {
   "cell_type": "markdown",
   "metadata": {},
   "source": [
    "### Do pre-appointment text messages lower patient absenteeism?"
   ]
  },
  {
   "cell_type": "code",
   "execution_count": 8,
   "metadata": {
    "scrolled": true
   },
   "outputs": [
    {
     "name": "stdout",
     "output_type": "stream",
     "text": [
      "No-show          No    Yes  Total  NoShowPercentage\n",
      "SMS_received                                       \n",
      "0             62506  12532  75038          0.167009\n",
      "1             25697   9784  35481          0.275753\n"
     ]
    },
    {
     "data": {
      "image/png": "[encoded data removed]",
      "text/plain": [
       "<Figure size 432x288 with 1 Axes>"
      ]
     },
     "metadata": {
      "needs_background": "light"
     },
     "output_type": "display_data"
    }
   ],
   "source": [
    "# Detail the number of no shows that did and did not receive a text message\n",
    "sms = df.groupby(['SMS_received', 'No-show']).size().reset_index(name='Count')\n",
    "sms_pivot = pd.pivot_table(sms, index = 'SMS_received', columns = 'No-show', values = 'Count', aggfunc = 'sum').fillna(0)\n",
    "\n",
    "# Format data as pie charts\n",
    "sms_pivot.plot(kind='bar')\n",
    "plt.xlabel(\"SMS Received\", fontsize=12)\n",
    "plt.ylabel(\"Count of No Shows\", fontsize=12)\n",
    "plt.title (\"Absenteeism Analysis by Text Message Reception\", fontsize=16, y=1.05)\n",
    "\n",
    "# Calculate No Show Percentage\n",
    "sms_pivot['Total'] = (sms_pivot['No'] + sms_pivot['Yes'])\n",
    "sms_pivot['NoShowPercentage'] = (sms_pivot['Yes'] / sms_pivot['Total'])\n",
    "print(sms_pivot)"
   ]
  },
  {
   "cell_type": "markdown",
   "metadata": {},
   "source": [
    "The count of patients that received a text message and missed their appointment was interestingly very close to the number of patients that did not receive a text message and missed their appointment.  As the number of patients that did not receive a text message was substantially higher then the number of patients that did, the no show percentage for those that did not receive a text message was 27.6% vs 16.7%.  "
   ]
  },
  {
   "cell_type": "markdown",
   "metadata": {},
   "source": [
    "### Is patient age impactful?"
   ]
  },
  {
   "cell_type": "code",
   "execution_count": 9,
   "metadata": {
    "scrolled": true
   },
   "outputs": [
    {
     "name": "stdout",
     "output_type": "stream",
     "text": [
      "No-show      No    Yes  Total  NoShowPercentage\n",
      "AgeGroup                                       \n",
      "Senior    12165   2230  14395          0.154915\n",
      "Toddler    1366    252   1618          0.155748\n",
      "Infant     4758   1054   5812          0.181349\n",
      "Adult     54656  14089  68745          0.204946\n",
      "Child     10605   3001  13606          0.220564\n",
      "Teenager   4653   1690   6343          0.266435\n"
     ]
    },
    {
     "data": {
      "text/plain": [
       "Text(0.5, 1.05, 'Percentage of No Shows by Age Group')"
      ]
     },
     "execution_count": 9,
     "metadata": {},
     "output_type": "execute_result"
    },
    {
     "data": {
      "image/png": "[encoded data removed]",
      "text/plain": [
       "<Figure size 432x288 with 1 Axes>"
      ]
     },
     "metadata": {
      "needs_background": "light"
     },
     "output_type": "display_data"
    }
   ],
   "source": [
    "# Aggregate no show counts by patient age group\n",
    "age = df.groupby(['AgeGroup', 'No-show']).size().reset_index(name='Count')\n",
    "age_pivot = pd.pivot_table(age, index = 'AgeGroup', columns = 'No-show', values = 'Count', aggfunc = 'sum').fillna(0)\n",
    "\n",
    "# Calculate No Show Percentage\n",
    "age_pivot['Total'] = (age_pivot['No'] + age_pivot['Yes'])\n",
    "age_pivot['NoShowPercentage'] = (age_pivot['Yes'] / age_pivot['Total'])\n",
    "age_pivot = age_pivot.sort_values('NoShowPercentage')\n",
    "print(age_pivot)\n",
    "\n",
    "# Sort data by No Show Percentage \n",
    "age_chart = age_pivot.groupby('AgeGroup')['NoShowPercentage'].mean().sort_values().tail(15)\n",
    "\n",
    "# Format data as a bar chart\n",
    "age_chart.plot(kind='barh', color='green')\n",
    "plt.xlabel(\"Absenteeism %\", fontsize=12)\n",
    "plt.ylabel(\"Age Group\", fontsize=12)\n",
    "plt.title (\"Percentage of No Shows by Age Group\", fontsize=16, y=1.05)"
   ]
  },
  {
   "cell_type": "markdown",
   "metadata": {},
   "source": [
    "The teenage age group demonstrates the highest percentage of missed appointments at 26.6%.   "
   ]
  },
  {
   "cell_type": "markdown",
   "metadata": {},
   "source": [
    "<a id='conclusions'></a>\n",
    "## Conclusions\n",
    "\n",
    "> In conclusion, the rate of patient absenteeism was examined as it related to appointment day of week, the receipt of a text message, and patient age group.  Patient no shows seem to peak around the weekend, Friday and Monday by a few percentage points.  The receipt of a text message appears to have a negative impact on the likelihood of a patient to make their appointment.  Finally, the teenage age group is the most likely to miss an appointment, seniors are the least likely group to miss an appointment.\n",
    "\n",
    "<a id='limitations'></a>\n",
    "## Limitations\n",
    "\n",
    "> Limitations of this dataset include age outliers, such as values of -1.  This could indicate a potential data integrity issue. "
   ]
  },
  {
   "cell_type": "code",
   "execution_count": null,
   "metadata": {},
   "outputs": [],
   "source": []
  }
 ],
 "metadata": {
  "kernelspec": {
   "display_name": "Python 3",
   "language": "python",
   "name": "python3"
  },
  "language_info": {
   "codemirror_mode": {
    "name": "ipython",
    "version": 3
   },
   "file_extension": ".py",
   "mimetype": "text/x-python",
   "name": "python",
   "nbconvert_exporter": "python",
   "pygments_lexer": "ipython3",
   "version": "3.7.4"
  }
 },
 "nbformat": 4,
 "nbformat_minor": 2
}
